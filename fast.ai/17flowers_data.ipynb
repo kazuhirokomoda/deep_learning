{
 "cells": [
  {
   "cell_type": "markdown",
   "metadata": {},
   "source": [
    "# prepare data"
   ]
  },
  {
   "cell_type": "markdown",
   "metadata": {},
   "source": [
    "17flowers.tgz has the size of about 60 MB. It might take some time to download..."
   ]
  },
  {
   "cell_type": "code",
   "execution_count": 1,
   "metadata": {},
   "outputs": [],
   "source": [
    "import os\n",
    "import requests\n",
    "\n",
    "def download_data(url, timeout = 15):\n",
    "    response = requests.get(url, allow_redirects=False, timeout=timeout)\n",
    "    return response.content\n",
    "\n",
    "def save_data(filename, data):\n",
    "    with open(filename, \"wb\") as fout:\n",
    "        fout.write(data)\n",
    "\n",
    "url = \"http://www.robots.ox.ac.uk/~vgg/data/flowers/17/17flowers.tgz\"\n",
    "data = download_data(url)\n",
    "\n",
    "current_dir = os.getcwd()\n",
    "filename = \"17flowers.tgz\"\n",
    "filepath = os.path.join(current_dir, filename)\n",
    "save_data(filepath, data)"
   ]
  },
  {
   "cell_type": "markdown",
   "metadata": {},
   "source": [
    "make directories"
   ]
  },
  {
   "cell_type": "code",
   "execution_count": 2,
   "metadata": {},
   "outputs": [],
   "source": [
    "dataset_name = \"17flowers\"\n",
    "\n",
    "# ./data/17flowers\n",
    "path = os.path.join(current_dir, \"data\", dataset_name)\n",
    "\n",
    "train_dir = os.path.join(path, 'train')\n",
    "test_dir  = os.path.join(path, 'test')\n",
    "valid_dir = os.path.join(path, 'valid')\n",
    "\n",
    "# recursive\n",
    "# https://docs.python.org/3.6/library/os.html#os.makedirs\n",
    "if not os.path.exists(train_dir):\n",
    "    os.makedirs(train_dir)\n",
    "\n",
    "if not os.path.exists(test_dir):\n",
    "    os.makedirs(test_dir)\n",
    "\n",
    "if not os.path.exists(valid_dir):\n",
    "    os.makedirs(valid_dir)"
   ]
  },
  {
   "cell_type": "markdown",
   "metadata": {},
   "source": [
    "copy data to the directories"
   ]
  },
  {
   "cell_type": "code",
   "execution_count": 3,
   "metadata": {},
   "outputs": [],
   "source": [
    "import tarfile\n",
    "\n",
    "tf = tarfile.open(filename, 'r')\n",
    "#tf.list(); ls -l\n",
    "\n",
    "flower_classes = [\"Tulip\", \"Snowdrop\", \"LilyValley\", \"Bluebell\", \"Crocus\", \"Iris\", \"Tigerlily\", \"Daffodil\", \"Fritillary\", \"Sunflower\", \"Daisy\", \"ColtsFoot\", \"Dandelion\", \"Cowslip\", \"Buttercup\", \"Windflower\", \"Pansy\"]\n",
    "\n",
    "for name in flower_classes:\n",
    "    os.mkdir(os.path.join(train_dir, name))\n",
    "    os.mkdir(os.path.join(test_dir, name))\n",
    "    os.mkdir(os.path.join(valid_dir, name))"
   ]
  },
  {
   "cell_type": "code",
   "execution_count": 4,
   "metadata": {},
   "outputs": [
    {
     "name": "stdout",
     "output_type": "stream",
     "text": [
      "{'Cowslip': (1041, 1120), 'Bluebell': (241, 320), 'Buttercup': (1121, 1200), 'Dandelion': (961, 1040), 'Snowdrop': (81, 160), 'Tulip': (1, 80), 'Fritillary': (641, 720), 'Sunflower': (721, 800), 'Tigerlily': (481, 560), 'Daisy': (801, 880), 'Iris': (401, 480), 'Crocus': (321, 400), 'LilyValley': (161, 240), 'Windflower': (1201, 1280), 'Pansy': (1281, 1360), 'ColtsFoot': (881, 960), 'Daffodil': (561, 640)}\n"
     ]
    }
   ],
   "source": [
    "flower_dics = {}\n",
    "for idx,flower in enumerate(flower_classes):\n",
    "    flower_dics[flower] = (80*idx+1, 80*(idx+1))\n",
    "print(flower_dics)"
   ]
  },
  {
   "cell_type": "code",
   "execution_count": 5,
   "metadata": {
    "collapsed": true
   },
   "outputs": [],
   "source": [
    "# inside the tgz file, there is a jpg directory\n",
    "jpg_dir = os.path.join(path, 'jpg')\n",
    "tf.extractall(path)"
   ]
  },
  {
   "cell_type": "code",
   "execution_count": 6,
   "metadata": {},
   "outputs": [],
   "source": [
    "import shutil\n",
    "\n",
    "for f_str in sorted(os.listdir(jpg_dir)):\n",
    "    if f_str.endswith('.jpg'):\n",
    "        # image_0001.jpg => 1\n",
    "        prefix = f_str.replace('.jpg', '')\n",
    "        idx = int(prefix.split('_')[1])\n",
    "\n",
    "        for name in flower_dics:\n",
    "            start, end = flower_dics[name]\n",
    "            if idx in range(start, end + 1):\n",
    "                source = os.path.join(jpg_dir, f_str)\n",
    "                dest = os.path.join(train_dir, name)\n",
    "                shutil.copy(source, dest)\n",
    "                continue"
   ]
  },
  {
   "cell_type": "markdown",
   "metadata": {},
   "source": [
    "訓練データの各ディレクトリからランダムに10枚を検証用(valid_dir)とする"
   ]
  },
  {
   "cell_type": "code",
   "execution_count": 7,
   "metadata": {
    "collapsed": true
   },
   "outputs": [],
   "source": [
    "import random\n",
    "random.seed(0)\n",
    "\n",
    "for d_str in os.listdir(train_dir):\n",
    "    files = os.listdir(os.path.join(train_dir, d_str))\n",
    "    random.shuffle(files)\n",
    "    for f_str in files[:10]:\n",
    "        source = os.path.join(train_dir, d_str, f_str)\n",
    "        dest = os.path.join(valid_dir, d_str)\n",
    "        shutil.move(source, dest)"
   ]
  },
  {
   "cell_type": "markdown",
   "metadata": {},
   "source": [
    "訓練データの各ディレクトリからランダムに10枚をテスト(test_dir)とする"
   ]
  },
  {
   "cell_type": "code",
   "execution_count": 8,
   "metadata": {
    "collapsed": true
   },
   "outputs": [],
   "source": [
    "random.seed(0)\n",
    "for d_str in os.listdir(train_dir):\n",
    "    files = os.listdir(os.path.join(train_dir, d_str))\n",
    "    random.shuffle(files)\n",
    "    for f_str in files[:10]:\n",
    "        source = os.path.join(train_dir, d_str, f_str)\n",
    "        dest = os.path.join(test_dir, d_str)\n",
    "        shutil.move(source, dest)"
   ]
  }
 ],
 "metadata": {
  "kernelspec": {
   "display_name": "Environment (conda_py3tf)",
   "language": "python",
   "name": "conda_py3tf"
  },
  "language_info": {
   "codemirror_mode": {
    "name": "ipython",
    "version": 3
   },
   "file_extension": ".py",
   "mimetype": "text/x-python",
   "name": "python",
   "nbconvert_exporter": "python",
   "pygments_lexer": "ipython3",
   "version": "3.5.3"
  }
 },
 "nbformat": 4,
 "nbformat_minor": 2
}
